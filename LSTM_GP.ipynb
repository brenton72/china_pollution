{
 "cells": [
  {
   "cell_type": "markdown",
   "metadata": {},
   "source": [
    "# Cleaning Notebook "
   ]
  },
  {
   "cell_type": "code",
   "execution_count": 1,
   "metadata": {
    "collapsed": true
   },
   "outputs": [],
   "source": [
    "import numpy as np\n",
    "import pandas as pd\n",
    "import matplotlib.pyplot as plt\n",
    "import os\n",
    "import datetime\n",
    "%matplotlib inline\n",
    "path = './data/'\n",
    "\n",
    "def load_data(filepath):\n",
    "    '''This function loads a dataset, creates a valid date column, and reshuffles the columns.'''\n",
    "    data = pd.read_csv(filepath).drop('Unnamed: 0', 1)\n",
    "    #Convert date column into a \"real\" date column, not a floating number\n",
    "    data['date'] = data['date'].astype(int).astype(str)\n",
    "    data['date'] = pd.to_datetime(data['date']).dt.date\n",
    "\n",
    "    #Reshuffle columns so that date, hour, type are at the front\n",
    "    observation_cols = list(data.columns.values[:-3])\n",
    "    cols = list(data.columns.values[-3:])\n",
    "    cols.extend(observation_cols)\n",
    "    DF = data[cols]\n",
    "    return DF\n",
    "\n",
    "def remove_and_rename_columns(DF, list_of_stations, list_of_metros):\n",
    "    '''This function removes station data that will not be used in our model.\n",
    "    @list_of_stations: a list of stations that we want to keep!\n",
    "    Function also renames columns so that they are named after metro areas, not station codes\n",
    "    '''\n",
    "    cols = ['date', 'month', 'weekday', 'hour']\n",
    "    stations = [x for x in list_of_stations]\n",
    "    cols.extend(stations)\n",
    "    new_DF = DF[cols]\n",
    "    for m in range(len(list_of_metros)):\n",
    "        new_DF = new_DF.rename(columns={list_of_stations[m]:list_of_metros[m]})        \n",
    "    return new_DF"
   ]
  },
  {
   "cell_type": "code",
   "execution_count": null,
   "metadata": {},
   "outputs": [],
   "source": [
    "PM = load_data(path+'PM2point5.csv')\n",
    "PM.head()"
   ]
  },
  {
   "cell_type": "markdown",
   "metadata": {},
   "source": [
    "###### The data is hourly, but some hours are \"missing\" throughout the entire dataset. \n",
    "For example, there are zero records for 16:00 on 2014-05-13 -- that hour is completely blank for all stations. \n",
    "\n",
    "To apply time series models effectively, it would be nice to \"standardize\" the dataset so that all records are equally spaced apart. For example, without 16:00 on May 13, the gap between 15:00 and the preceding record (14:00) will be larger than the gap between 15:00 and the subsequent record (17:00). This is a problem. \n",
    "\n",
    "To address this problem, we'll construct a formal \"Times\" dataframe where ALL hours between May 13, 2014 and December 31, 2016 are represented. We'll merge this \"Times\" dataframe with the PM2.5 dataframe. Then, we will need to estimate missing PM 2.5 values for the empty hours (newly introduced by the \"Times\" df."
   ]
  },
  {
   "cell_type": "code",
   "execution_count": null,
   "metadata": {
    "collapsed": true,
    "scrolled": true
   },
   "outputs": [],
   "source": [
    "def merge_times(DF, start_date, end_date):\n",
    "    '''This function constructs a \"Times\" dataframe where each row represents one hour. \n",
    "    Ultimately, we want to ensure that our DF with PM2.5 data has no missing hours. \n",
    "    \n",
    "    @start_date should be in format datetime.date(2014, 5, 13)\n",
    "    @end_date should be datetime.date(2017, 1, 1) (if you want all hourly data in 2016)\n",
    "    '''\n",
    "    Times = pd.DataFrame(pd.date_range(start_date, end_date, freq='H')[:-1]).rename(columns={0: 'Time'})\n",
    "    Times['date'] = Times['Time'].dt.date\n",
    "    Times['hour'] = Times['Time'].dt.hour\n",
    "    Times['month'] = Times['Time'].dt.month\n",
    "    Times['weekday'] = Times['Time'].dt.weekday\n",
    "    Times = Times.drop('Time',1)\n",
    "\n",
    "    ### Merge PM and Times dataframes together \n",
    "    DF_new = DF.merge(Times, on=['date', 'hour'], how='right')\n",
    "    DF_new = DF_new.sort_values(by=['date','hour']).reset_index(drop=True)\n",
    "    return DF_new"
   ]
  },
  {
   "cell_type": "code",
   "execution_count": null,
   "metadata": {},
   "outputs": [],
   "source": [
    "PM = merge_times(PM, datetime.date(2014, 5, 13), datetime.date(2017, 1, 1))\n",
    "PM.head()"
   ]
  },
  {
   "cell_type": "markdown",
   "metadata": {},
   "source": [
    "### To make computations simpler, only take stations from 21 metro areas.\n",
    "For each metro area, pick station with highest number of observations. See \"stations\" notebook for more details"
   ]
  },
  {
   "cell_type": "code",
   "execution_count": 7,
   "metadata": {
    "scrolled": false
   },
   "outputs": [
    {
     "data": {
      "text/html": [
       "<div>\n",
       "<style scoped>\n",
       "    .dataframe tbody tr th:only-of-type {\n",
       "        vertical-align: middle;\n",
       "    }\n",
       "\n",
       "    .dataframe tbody tr th {\n",
       "        vertical-align: top;\n",
       "    }\n",
       "\n",
       "    .dataframe thead th {\n",
       "        text-align: right;\n",
       "    }\n",
       "</style>\n",
       "<table border=\"1\" class=\"dataframe\">\n",
       "  <thead>\n",
       "    <tr style=\"text-align: right;\">\n",
       "      <th></th>\n",
       "      <th>StationID</th>\n",
       "      <th>Metro</th>\n",
       "    </tr>\n",
       "  </thead>\n",
       "  <tbody>\n",
       "    <tr>\n",
       "      <th>0</th>\n",
       "      <td>1589A</td>\n",
       "      <td>Baotou</td>\n",
       "    </tr>\n",
       "    <tr>\n",
       "      <th>1</th>\n",
       "      <td>1012A</td>\n",
       "      <td>Beijing</td>\n",
       "    </tr>\n",
       "    <tr>\n",
       "      <th>2</th>\n",
       "      <td>1342A</td>\n",
       "      <td>Changsha</td>\n",
       "    </tr>\n",
       "    <tr>\n",
       "      <th>3</th>\n",
       "      <td>1434A</td>\n",
       "      <td>Chengdu</td>\n",
       "    </tr>\n",
       "    <tr>\n",
       "      <th>4</th>\n",
       "      <td>1419A</td>\n",
       "      <td>Chongqing</td>\n",
       "    </tr>\n",
       "    <tr>\n",
       "      <th>5</th>\n",
       "      <td>1282A</td>\n",
       "      <td>Fuzhou</td>\n",
       "    </tr>\n",
       "    <tr>\n",
       "      <th>6</th>\n",
       "      <td>1349A</td>\n",
       "      <td>Guangzhou</td>\n",
       "    </tr>\n",
       "    <tr>\n",
       "      <th>7</th>\n",
       "      <td>1129A</td>\n",
       "      <td>Harbin</td>\n",
       "    </tr>\n",
       "    <tr>\n",
       "      <th>8</th>\n",
       "      <td>1453A</td>\n",
       "      <td>Kunming</td>\n",
       "    </tr>\n",
       "    <tr>\n",
       "      <th>9</th>\n",
       "      <td>1456A</td>\n",
       "      <td>Lhasa</td>\n",
       "    </tr>\n",
       "    <tr>\n",
       "      <th>10</th>\n",
       "      <td>1152A</td>\n",
       "      <td>Nanjing</td>\n",
       "    </tr>\n",
       "    <tr>\n",
       "      <th>11</th>\n",
       "      <td>1406A</td>\n",
       "      <td>Nanning</td>\n",
       "    </tr>\n",
       "    <tr>\n",
       "      <th>12</th>\n",
       "      <td>1310A</td>\n",
       "      <td>Qingdao</td>\n",
       "    </tr>\n",
       "    <tr>\n",
       "      <th>13</th>\n",
       "      <td>1144A</td>\n",
       "      <td>Shanghai</td>\n",
       "    </tr>\n",
       "    <tr>\n",
       "      <th>14</th>\n",
       "      <td>1099A</td>\n",
       "      <td>Shenyang</td>\n",
       "    </tr>\n",
       "    <tr>\n",
       "      <th>15</th>\n",
       "      <td>1493A</td>\n",
       "      <td>Urumqi</td>\n",
       "    </tr>\n",
       "    <tr>\n",
       "      <th>16</th>\n",
       "      <td>1330A</td>\n",
       "      <td>Wuhan</td>\n",
       "    </tr>\n",
       "    <tr>\n",
       "      <th>17</th>\n",
       "      <td>1465A</td>\n",
       "      <td>Xian</td>\n",
       "    </tr>\n",
       "    <tr>\n",
       "      <th>18</th>\n",
       "      <td>1482A</td>\n",
       "      <td>Xining</td>\n",
       "    </tr>\n",
       "    <tr>\n",
       "      <th>19</th>\n",
       "      <td>1488A</td>\n",
       "      <td>Yinchuan</td>\n",
       "    </tr>\n",
       "    <tr>\n",
       "      <th>20</th>\n",
       "      <td>1316A</td>\n",
       "      <td>Zhengzhou</td>\n",
       "    </tr>\n",
       "  </tbody>\n",
       "</table>\n",
       "</div>"
      ],
      "text/plain": [
       "   StationID      Metro\n",
       "0      1589A     Baotou\n",
       "1      1012A    Beijing\n",
       "2      1342A   Changsha\n",
       "3      1434A    Chengdu\n",
       "4      1419A  Chongqing\n",
       "5      1282A     Fuzhou\n",
       "6      1349A  Guangzhou\n",
       "7      1129A     Harbin\n",
       "8      1453A    Kunming\n",
       "9      1456A      Lhasa\n",
       "10     1152A    Nanjing\n",
       "11     1406A    Nanning\n",
       "12     1310A    Qingdao\n",
       "13     1144A   Shanghai\n",
       "14     1099A   Shenyang\n",
       "15     1493A     Urumqi\n",
       "16     1330A      Wuhan\n",
       "17     1465A       Xian\n",
       "18     1482A     Xining\n",
       "19     1488A   Yinchuan\n",
       "20     1316A  Zhengzhou"
      ]
     },
     "execution_count": 7,
     "metadata": {},
     "output_type": "execute_result"
    }
   ],
   "source": [
    "metro_codes = pd.read_csv(path+'Station_Metro_Codes.csv')\n",
    "metro_codes = metro_codes.drop('Unnamed: 0', 1)\n",
    "stations_to_use = list(metro_codes['StationID'])\n",
    "metro_codes"
   ]
  },
  {
   "cell_type": "markdown",
   "metadata": {},
   "source": [
    "### Deal with missing observations: \n",
    "\n",
    "**Strategy: For any missing observation, take a weighted average of the most immediate (recorded) prior observation and most immediate (recorded) future observation.** The weights are based on how far away the recorded observations are from the missing observation. For example, let's say we are missing AQI data for 4:00am and 5:00am, but we know that AQI = 30 at 3:00am and AQI = 60 at 6:00am. Instead of simply plugging in the unweighted average AQI value (AQI = 45) for both hours, the code below will produce AQI = 40 for 4:00am and AQI = 50 for 5:00am. For the 4:00am missing value, twice as much weight is placed on the 3:00am recorded value than the 6:00am recorded value, resulting in a weighted average of (2/3 x 30)  + (1/3 x 60) = 40.  "
   ]
  },
  {
   "cell_type": "code",
   "execution_count": null,
   "metadata": {
    "collapsed": true
   },
   "outputs": [],
   "source": [
    "def fill_missing_obs(DF, StationID):\n",
    "    '''This function fills missing values for a particular station\n",
    "    @StationID: string format -- equivalent to column name\n",
    "    @DF: dataframe\n",
    "    '''\n",
    "    DF['missing_'+StationID] = np.where(DF[StationID]>-99, 0, 1)\n",
    "    missing = DF[DF['missing_'+StationID]==1]\n",
    "    \n",
    "    first_nonzero = [x for x in np.arange(20) if x not in missing.index][0]\n",
    "    last_nonzero = [x for x in np.arange(len(DF)-20, len(DF), 1) if x not in missing.index][-1]\n",
    "    \n",
    "    for x in missing.index: #For each missing cell\n",
    "        if x < first_nonzero:\n",
    "            pass\n",
    "        elif x > last_nonzero:\n",
    "            pass\n",
    "\n",
    "        else:\n",
    "            non_missing_prior_index = x-1 #Find most recent past record \n",
    "            non_missing_post_index = x+1  \n",
    "    \n",
    "            while True:\n",
    "                if non_missing_prior_index in missing.index:\n",
    "                    non_missing_prior_index = non_missing_prior_index - 1\n",
    "                else:\n",
    "                    break\n",
    "        \n",
    "            while True:\n",
    "                if non_missing_post_index in missing.index:\n",
    "                    non_missing_post_index = non_missing_post_index + 1\n",
    "                else:\n",
    "                    break\n",
    "\n",
    "            prior_datapoint = DF.loc[non_missing_prior_index, StationID] \n",
    "            post_datapoint = DF.loc[non_missing_post_index, StationID]\n",
    "\n",
    "            priordiff = x - non_missing_prior_index\n",
    "            postdiff = non_missing_post_index - x\n",
    "            diff = priordiff + postdiff\n",
    "            prior_weight = postdiff/diff\n",
    "            post_weight = priordiff/diff\n",
    "    \n",
    "            DF.loc[x, StationID] = (prior_weight*prior_datapoint) + (post_weight*post_datapoint) \n",
    "    \n",
    "    #else if x == 0 or x == len(DF)-1\n",
    "    DF[StationID] = DF[StationID].fillna(method = 'ffill').fillna(method = 'bfill') \n",
    "    DF = DF.drop('missing_'+StationID, 1)\n",
    "    return DF"
   ]
  },
  {
   "cell_type": "markdown",
   "metadata": {},
   "source": [
    "## Interpolate missing observations, and remove stations that aren't in the 21 cities listed above. "
   ]
  },
  {
   "cell_type": "code",
   "execution_count": 8,
   "metadata": {},
   "outputs": [
    {
     "ename": "NameError",
     "evalue": "name 'fill_missing_obs' is not defined",
     "output_type": "error",
     "traceback": [
      "\u001b[0;31m---------------------------------------------------------------------------\u001b[0m",
      "\u001b[0;31mNameError\u001b[0m                                 Traceback (most recent call last)",
      "\u001b[0;32m<ipython-input-8-58090d1ea781>\u001b[0m in \u001b[0;36m<module>\u001b[0;34m()\u001b[0m\n\u001b[1;32m      3\u001b[0m \u001b[0;34m\u001b[0m\u001b[0m\n\u001b[1;32m      4\u001b[0m \u001b[0;32mfor\u001b[0m \u001b[0ms\u001b[0m \u001b[0;32min\u001b[0m \u001b[0mstations_to_use\u001b[0m\u001b[0;34m:\u001b[0m\u001b[0;34m\u001b[0m\u001b[0m\n\u001b[0;32m----> 5\u001b[0;31m     \u001b[0mPM\u001b[0m \u001b[0;34m=\u001b[0m \u001b[0mfill_missing_obs\u001b[0m\u001b[0;34m(\u001b[0m\u001b[0mPM\u001b[0m\u001b[0;34m,\u001b[0m \u001b[0ms\u001b[0m\u001b[0;34m)\u001b[0m\u001b[0;34m\u001b[0m\u001b[0m\n\u001b[0m\u001b[1;32m      6\u001b[0m \u001b[0;34m\u001b[0m\u001b[0m\n\u001b[1;32m      7\u001b[0m \u001b[0mPM_less\u001b[0m \u001b[0;34m=\u001b[0m \u001b[0mremove_and_rename_columns\u001b[0m\u001b[0;34m(\u001b[0m\u001b[0mPM\u001b[0m\u001b[0;34m,\u001b[0m \u001b[0mstations_to_use\u001b[0m\u001b[0;34m,\u001b[0m \u001b[0mmetros_to_use\u001b[0m\u001b[0;34m)\u001b[0m\u001b[0;34m\u001b[0m\u001b[0m\n",
      "\u001b[0;31mNameError\u001b[0m: name 'fill_missing_obs' is not defined"
     ]
    }
   ],
   "source": [
    "stations_to_use = list(metro_codes['StationID'])\n",
    "metros_to_use = list(metro_codes['Metro'])\n",
    "\n",
    "for s in stations_to_use:\n",
    "    PM = fill_missing_obs(PM, s)\n",
    "\n",
    "PM_less = remove_and_rename_columns(PM, stations_to_use, metros_to_use)\n",
    "PM_less.head()"
   ]
  },
  {
   "cell_type": "markdown",
   "metadata": {},
   "source": [
    "-----"
   ]
  },
  {
   "cell_type": "markdown",
   "metadata": {},
   "source": [
    "# Add Weather Features "
   ]
  },
  {
   "cell_type": "code",
   "execution_count": null,
   "metadata": {
    "collapsed": true
   },
   "outputs": [],
   "source": [
    "def load_weather_data(city_name):\n",
    "    '''This function loads weather data for a particular city'''\n",
    "    \n",
    "    weather_path = './weather_data/'\n",
    "    WeatherDF = pd.read_csv(weather_path+city_name+'.csv', usecols=['date', 'hour', 'Humidity',\n",
    "                                                           'Wind Dir', 'Wind Speed',\n",
    "                                                            'Temp.', 'Pressure'], encoding='latin1' )\n",
    "    #Convert date into a datetime variable\n",
    "    WeatherDF['date'] = pd.to_datetime(WeatherDF['date']).dt.date\n",
    "\n",
    "    #Convert temperature into a numerical variable\n",
    "    WeatherDF['Temp.'] = WeatherDF['Temp.'].str.replace('åÊå¡F', '').astype(float)\n",
    "\n",
    "    #Convert humidity into a numerical variable.\n",
    "    WeatherDF['Humidity'] = WeatherDF['Humidity'].str.replace('%', '').astype(float)\n",
    "\n",
    "    #Convert pressure into a numerical variable\n",
    "    WeatherDF['Pressure'] = WeatherDF['Pressure'].str.replace('åÊin','').astype(float)\n",
    "\n",
    "    #Convert wind speed into a numerical variable\n",
    "    WeatherDF['Wind Speed'] = WeatherDF['Wind Speed'].str.replace('åÊmph','')\n",
    "    WeatherDF['Wind Speed'] = np.where(WeatherDF['Wind Speed'] == 'Calm', 0, WeatherDF['Wind Speed']).astype(float)\n",
    "    return WeatherDF    "
   ]
  },
  {
   "cell_type": "code",
   "execution_count": null,
   "metadata": {},
   "outputs": [],
   "source": [
    "BeijingW = load_weather_data('Beijing')\n",
    "BeijingW.head()"
   ]
  },
  {
   "cell_type": "code",
   "execution_count": null,
   "metadata": {},
   "outputs": [],
   "source": [
    "#One tricky variable is wind direction\n",
    "BeijingW.groupby('Wind Dir').count()[['date']].sort_values(by='date').T"
   ]
  },
  {
   "cell_type": "code",
   "execution_count": null,
   "metadata": {},
   "outputs": [],
   "source": [
    "#Convert wind direction into a numerical variable\n",
    "#NOTE: indexed at 0 = WEST -- historically wind rarely comes from the West in Beijing (see chart above)\n",
    "wind_direction = {'North': 90, 'NNE':112.5, 'NE': 135, 'ENE': 157.5, \n",
    "                  'East': 180, 'ESE':202.5, 'SE': 225, 'SSE': 247.5,\n",
    "                  'South': 270,'SSW': 292.5, 'SW': 315, 'WSW': 337.5,\n",
    "                  'West': 0, 'WNW': 22.5, 'NW': 45, 'NNW': 67.5,\n",
    "                 'Variable': None, 'Calm': None}\n",
    "\n",
    "BeijingW['wind_angle'] = BeijingW['Wind Dir'].map(lambda x: wind_direction[x])\n",
    "BeijingW = BeijingW.drop('Wind Dir', 1)\n",
    "\n",
    "#Merge times\n",
    "BeijingWeather = merge_times(BeijingW, datetime.date(2014, 5, 13), datetime.date(2017, 1, 1))\n",
    "BeijingWeather.tail()"
   ]
  },
  {
   "cell_type": "markdown",
   "metadata": {},
   "source": [
    "### Fill in blanks for weather data"
   ]
  },
  {
   "cell_type": "code",
   "execution_count": null,
   "metadata": {},
   "outputs": [],
   "source": [
    "#same method to fill missing observations\n",
    "for c in ['Humidity', 'Pressure', 'Temp.', 'Wind Speed']:\n",
    "    BeijingWeather = fill_missing_obs(BeijingWeather, c)\n",
    "\n",
    "#For wind_angle, just use the most recent prior observation.\n",
    "#For most nulls for wind_angle, wind speed is very low (0-2mph), so not too concerned.\n",
    "#Didn't use fill_missing_obs function because of the circular nature of the wind_angle variable.\n",
    "#(Jump from 315 to 45 degrees is tricky)\n",
    "\n",
    "BeijingWeather['wind_angle'] = BeijingWeather['wind_angle'].fillna(method='ffill')\n",
    "BeijingWeather.tail()"
   ]
  },
  {
   "cell_type": "markdown",
   "metadata": {},
   "source": [
    "------"
   ]
  },
  {
   "cell_type": "markdown",
   "metadata": {},
   "source": [
    "### Merge weather data to create final (hourly) dataset "
   ]
  },
  {
   "cell_type": "code",
   "execution_count": null,
   "metadata": {
    "collapsed": true
   },
   "outputs": [],
   "source": [
    "PM_Hour = PM_less.merge(BeijingWeather, on=['date','hour', 'month', 'weekday'])\n",
    "PM_Hour.to_csv('PM25_Hour.csv')"
   ]
  },
  {
   "cell_type": "markdown",
   "metadata": {},
   "source": [
    "### Create final (daily) dataset as well "
   ]
  },
  {
   "cell_type": "code",
   "execution_count": null,
   "metadata": {},
   "outputs": [],
   "source": [
    "PM_Day = PM_Hour.groupby('date', as_index=False).mean() #Take daily average of each variable.\n",
    "PM_Day.to_csv('PM25_Day.csv')"
   ]
  },
  {
   "cell_type": "code",
   "execution_count": 2,
   "metadata": {
    "collapsed": true
   },
   "outputs": [],
   "source": [
    "PM_Day=pd.read_csv('/Users/zachariah.zhang/Downloads/PM25_Day.csv')\n",
    "PM_Hour=pd.read_csv('/Users/zachariah.zhang/Downloads/PM25_Hour.csv')"
   ]
  },
  {
   "cell_type": "markdown",
   "metadata": {},
   "source": [
    "----------"
   ]
  },
  {
   "cell_type": "markdown",
   "metadata": {},
   "source": [
    "# Build Random Forests Model\n",
    "\n",
    "Will require hard-coding variables."
   ]
  },
  {
   "cell_type": "markdown",
   "metadata": {},
   "source": [
    "# Autoregressive Features"
   ]
  },
  {
   "cell_type": "markdown",
   "metadata": {},
   "source": [
    "For this task, we want to predict pollution levels far into the future (at least one day away). Therefore, in terms of autoregressive features, we will only use values that occur at least 24 hours in the past. "
   ]
  },
  {
   "cell_type": "code",
   "execution_count": 3,
   "metadata": {},
   "outputs": [
    {
     "data": {
      "text/html": [
       "<div>\n",
       "<style scoped>\n",
       "    .dataframe tbody tr th:only-of-type {\n",
       "        vertical-align: middle;\n",
       "    }\n",
       "\n",
       "    .dataframe tbody tr th {\n",
       "        vertical-align: top;\n",
       "    }\n",
       "\n",
       "    .dataframe thead th {\n",
       "        text-align: right;\n",
       "    }\n",
       "</style>\n",
       "<table border=\"1\" class=\"dataframe\">\n",
       "  <thead>\n",
       "    <tr style=\"text-align: right;\">\n",
       "      <th></th>\n",
       "      <th>Unnamed: 0</th>\n",
       "      <th>date</th>\n",
       "      <th>month</th>\n",
       "      <th>weekday</th>\n",
       "      <th>hour</th>\n",
       "      <th>Baotou</th>\n",
       "      <th>Beijing</th>\n",
       "      <th>Changsha</th>\n",
       "      <th>Chengdu</th>\n",
       "      <th>Chongqing</th>\n",
       "      <th>...</th>\n",
       "      <th>Yinchuan</th>\n",
       "      <th>Zhengzhou</th>\n",
       "      <th>Humidity</th>\n",
       "      <th>Pressure</th>\n",
       "      <th>Temp.</th>\n",
       "      <th>Wind Speed</th>\n",
       "      <th>wind_angle</th>\n",
       "      <th>Beijing t-24</th>\n",
       "      <th>Beijing t-36</th>\n",
       "      <th>Beijing t-48</th>\n",
       "    </tr>\n",
       "  </thead>\n",
       "  <tbody>\n",
       "    <tr>\n",
       "      <th>23134</th>\n",
       "      <td>23134</td>\n",
       "      <td>2016-12-31</td>\n",
       "      <td>12</td>\n",
       "      <td>5</td>\n",
       "      <td>22.0</td>\n",
       "      <td>156.0</td>\n",
       "      <td>521.0</td>\n",
       "      <td>136.0</td>\n",
       "      <td>209.0</td>\n",
       "      <td>118.0</td>\n",
       "      <td>...</td>\n",
       "      <td>201.0</td>\n",
       "      <td>245.0</td>\n",
       "      <td>93.0</td>\n",
       "      <td>30.3</td>\n",
       "      <td>23.0</td>\n",
       "      <td>2.2</td>\n",
       "      <td>157.5</td>\n",
       "      <td>368.0</td>\n",
       "      <td>109.0</td>\n",
       "      <td>120.0</td>\n",
       "    </tr>\n",
       "    <tr>\n",
       "      <th>23135</th>\n",
       "      <td>23135</td>\n",
       "      <td>2016-12-31</td>\n",
       "      <td>12</td>\n",
       "      <td>5</td>\n",
       "      <td>23.0</td>\n",
       "      <td>184.0</td>\n",
       "      <td>513.0</td>\n",
       "      <td>131.0</td>\n",
       "      <td>210.0</td>\n",
       "      <td>108.0</td>\n",
       "      <td>...</td>\n",
       "      <td>202.0</td>\n",
       "      <td>250.0</td>\n",
       "      <td>93.0</td>\n",
       "      <td>30.3</td>\n",
       "      <td>21.2</td>\n",
       "      <td>2.2</td>\n",
       "      <td>157.5</td>\n",
       "      <td>278.0</td>\n",
       "      <td>116.5</td>\n",
       "      <td>109.5</td>\n",
       "    </tr>\n",
       "  </tbody>\n",
       "</table>\n",
       "<p>2 rows × 34 columns</p>\n",
       "</div>"
      ],
      "text/plain": [
       "       Unnamed: 0        date  month  weekday  hour  Baotou  Beijing  \\\n",
       "23134       23134  2016-12-31     12        5  22.0   156.0    521.0   \n",
       "23135       23135  2016-12-31     12        5  23.0   184.0    513.0   \n",
       "\n",
       "       Changsha  Chengdu  Chongqing      ...       Yinchuan  Zhengzhou  \\\n",
       "23134     136.0    209.0      118.0      ...          201.0      245.0   \n",
       "23135     131.0    210.0      108.0      ...          202.0      250.0   \n",
       "\n",
       "       Humidity  Pressure  Temp.  Wind Speed  wind_angle  Beijing t-24  \\\n",
       "23134      93.0      30.3   23.0         2.2       157.5         368.0   \n",
       "23135      93.0      30.3   21.2         2.2       157.5         278.0   \n",
       "\n",
       "       Beijing t-36  Beijing t-48  \n",
       "23134         109.0         120.0  \n",
       "23135         116.5         109.5  \n",
       "\n",
       "[2 rows x 34 columns]"
      ]
     },
     "execution_count": 3,
     "metadata": {},
     "output_type": "execute_result"
    }
   ],
   "source": [
    "def add_autoregressive_features(DF, Metro, time_steps):\n",
    "    '''@time_steps: a list of integers indicating which autoregressive values to use\n",
    "    e.g. [24, 36] means to use the observations from 24 hours ago and 36 hours ago\n",
    "    '''\n",
    "    for t in time_steps:\n",
    "        lagged_values = np.empty(t)\n",
    "        lagged_values[:] = np.nan\n",
    "        lagged_values = list(lagged_values)\n",
    "        lagged_values.extend(list(DF[Metro][:-t]))\n",
    "        DF[Metro+' t-'+str(t)] = lagged_values\n",
    "    return DF\n",
    "\n",
    "\n",
    "time_steps = [24, 36, 48]\n",
    "day_steps = [1, 2]\n",
    "BeijHour = add_autoregressive_features(PM_Hour.copy(), 'Beijing', time_steps)\n",
    "BeijDay = add_autoregressive_features(PM_Day.copy(), 'Beijing', day_steps)\n",
    "\n",
    "BeijHour.tail(2)"
   ]
  },
  {
   "cell_type": "markdown",
   "metadata": {},
   "source": [
    "# Pollution values from other stations "
   ]
  },
  {
   "cell_type": "code",
   "execution_count": 9,
   "metadata": {},
   "outputs": [
    {
     "data": {
      "text/html": [
       "<div>\n",
       "<style scoped>\n",
       "    .dataframe tbody tr th:only-of-type {\n",
       "        vertical-align: middle;\n",
       "    }\n",
       "\n",
       "    .dataframe tbody tr th {\n",
       "        vertical-align: top;\n",
       "    }\n",
       "\n",
       "    .dataframe thead th {\n",
       "        text-align: right;\n",
       "    }\n",
       "</style>\n",
       "<table border=\"1\" class=\"dataframe\">\n",
       "  <thead>\n",
       "    <tr style=\"text-align: right;\">\n",
       "      <th></th>\n",
       "      <th>Unnamed: 0</th>\n",
       "      <th>date</th>\n",
       "      <th>month</th>\n",
       "      <th>weekday</th>\n",
       "      <th>hour</th>\n",
       "      <th>Beijing</th>\n",
       "      <th>Humidity</th>\n",
       "      <th>Pressure</th>\n",
       "      <th>Temp.</th>\n",
       "      <th>Wind Speed</th>\n",
       "      <th>wind_angle</th>\n",
       "      <th>Beijing t-24</th>\n",
       "      <th>Beijing t-36</th>\n",
       "      <th>Beijing t-48</th>\n",
       "      <th>Baotou t-24</th>\n",
       "      <th>Harbin t-24</th>\n",
       "      <th>Qingdao t-24</th>\n",
       "      <th>Xian t-24</th>\n",
       "    </tr>\n",
       "  </thead>\n",
       "  <tbody>\n",
       "    <tr>\n",
       "      <th>23134</th>\n",
       "      <td>23134</td>\n",
       "      <td>2016-12-31</td>\n",
       "      <td>12</td>\n",
       "      <td>5</td>\n",
       "      <td>22.0</td>\n",
       "      <td>521.0</td>\n",
       "      <td>93.0</td>\n",
       "      <td>30.3</td>\n",
       "      <td>23.0</td>\n",
       "      <td>2.2</td>\n",
       "      <td>157.5</td>\n",
       "      <td>368.0</td>\n",
       "      <td>109.0</td>\n",
       "      <td>120.0</td>\n",
       "      <td>96.0</td>\n",
       "      <td>162.0</td>\n",
       "      <td>49.0</td>\n",
       "      <td>290.0</td>\n",
       "    </tr>\n",
       "    <tr>\n",
       "      <th>23135</th>\n",
       "      <td>23135</td>\n",
       "      <td>2016-12-31</td>\n",
       "      <td>12</td>\n",
       "      <td>5</td>\n",
       "      <td>23.0</td>\n",
       "      <td>513.0</td>\n",
       "      <td>93.0</td>\n",
       "      <td>30.3</td>\n",
       "      <td>21.2</td>\n",
       "      <td>2.2</td>\n",
       "      <td>157.5</td>\n",
       "      <td>278.0</td>\n",
       "      <td>116.5</td>\n",
       "      <td>109.5</td>\n",
       "      <td>103.0</td>\n",
       "      <td>254.0</td>\n",
       "      <td>58.0</td>\n",
       "      <td>330.0</td>\n",
       "    </tr>\n",
       "  </tbody>\n",
       "</table>\n",
       "</div>"
      ],
      "text/plain": [
       "       Unnamed: 0        date  month  weekday  hour  Beijing  Humidity  \\\n",
       "23134       23134  2016-12-31     12        5  22.0    521.0      93.0   \n",
       "23135       23135  2016-12-31     12        5  23.0    513.0      93.0   \n",
       "\n",
       "       Pressure  Temp.  Wind Speed  wind_angle  Beijing t-24  Beijing t-36  \\\n",
       "23134      30.3   23.0         2.2       157.5         368.0         109.0   \n",
       "23135      30.3   21.2         2.2       157.5         278.0         116.5   \n",
       "\n",
       "       Beijing t-48  Baotou t-24  Harbin t-24  Qingdao t-24  Xian t-24  \n",
       "23134         120.0         96.0        162.0          49.0      290.0  \n",
       "23135         109.5        103.0        254.0          58.0      330.0  "
      ]
     },
     "execution_count": 9,
     "metadata": {},
     "output_type": "execute_result"
    }
   ],
   "source": [
    "def add_other_stations(DF, Relevant_Metros, time_steps):\n",
    "    '''\n",
    "    The argument 'Relevant Metros' is a list of metros that are close to the target city.\n",
    "    The argument 'time_steps' is the same as in the \"add_autoregressive_features\" function.\n",
    "    '''\n",
    "    for m in Relevant_Metros:\n",
    "        for t in time_steps:\n",
    "            lagged_values = np.empty(t)\n",
    "            lagged_values[:] = np.nan\n",
    "            lagged_values = list(lagged_values)\n",
    "            lagged_values.extend(list(DF[m][:-t]))\n",
    "            DF[m+' t-'+str(t)] = lagged_values\n",
    "    return DF   \n",
    "\n",
    "def final_cleaning(DF, Metro):\n",
    "    for m in metros_to_use:\n",
    "        if m != Metro:\n",
    "            DF = DF.drop(m, 1)\n",
    "    return DF\n",
    "\n",
    "\n",
    "BeijingHour = add_other_stations(BeijHour, ['Baotou', 'Harbin', 'Qingdao', 'Xian'], [24])\n",
    "BeijingDay = add_other_stations(BeijDay, ['Baotou', 'Harbin', 'Qingdao', 'Xian'], [1])\n",
    "\n",
    "FINAL_Hour = final_cleaning(BeijingHour, 'Beijing')\n",
    "FINAL_Day = final_cleaning(BeijingDay, 'Beijing')\n",
    "\n",
    "FINAL_Hour.tail(2)"
   ]
  },
  {
   "cell_type": "markdown",
   "metadata": {},
   "source": [
    "# Modelling (Hour) "
   ]
  },
  {
   "cell_type": "code",
   "execution_count": null,
   "metadata": {},
   "outputs": [],
   "source": [
    "X = FINAL_Hour.drop(['Beijing','date'], 1)\n",
    "y = FINAL_Hour['Beijing']\n",
    "\n",
    "TrainX = X[48:20000]\n",
    "TrainY = y[48:20000]\n",
    "TestX = X[20000:]\n",
    "TestY = y[20000:]\n",
    "\n",
    "from sklearn.ensemble import RandomForestRegressor\n",
    "import sklearn.metrics\n",
    "\n",
    "RF = RandomForestRegressor(n_estimators=20, min_samples_leaf=10)\n",
    "RF.fit(TrainX, TrainY)\n",
    "\n",
    "preds = RF.predict(TestX)\n",
    "train_score = RF.score(TrainX, TrainY)\n",
    "score = RF.score(TestX, TestY)\n",
    "\n",
    "print(train_score)\n",
    "print(score)"
   ]
  },
  {
   "cell_type": "code",
   "execution_count": null,
   "metadata": {},
   "outputs": [],
   "source": [
    "RFF = pd.DataFrame(np.vstack((TrainX.columns.values, RF.feature_importances_))).T\n",
    "RFF.sort_values(by=1, ascending=False)"
   ]
  },
  {
   "cell_type": "code",
   "execution_count": null,
   "metadata": {},
   "outputs": [],
   "source": [
    "np.corrcoef(preds, TestY)"
   ]
  },
  {
   "cell_type": "code",
   "execution_count": null,
   "metadata": {},
   "outputs": [],
   "source": [
    "plt.figure(figsize=[5,5])\n",
    "plt.ylim(0,7)\n",
    "plt.xlim(0,7)\n",
    "plt.scatter(np.log(preds), np.log(TestY))"
   ]
  },
  {
   "cell_type": "code",
   "execution_count": null,
   "metadata": {},
   "outputs": [],
   "source": [
    "#FinalYear = FINAL.copy()\n",
    "#FinalYear['year'] = FinalYear['date'].map(lambda x: x.year)\n",
    "#m = FinalYear.drop_duplicates(subset=['month','year'], keep='first')\n",
    "#m.tail()\n",
    "\n",
    "labels = ['9/1/2016', '10/1/2016', '11/1/2016', '12/1/2016']\n",
    "pos = [20208, 20928, 21672, 22392]\n",
    "\n",
    "plt.figure(figsize=(20, 10))\n",
    "plt.plot(TestY, label= 'Observations')\n",
    "plt.plot(np.arange(20000,23136), preds, label='Predictions')\n",
    "plt.title('Hourly Predictions of Random Forest Model \\n(8/23/16 to 12/31/16)', size=24)\n",
    "plt.xticks(pos, labels, size=14)\n",
    "plt.legend(prop={'size':20})\n",
    "print()"
   ]
  },
  {
   "cell_type": "code",
   "execution_count": 79,
   "metadata": {},
   "outputs": [
    {
     "data": {
      "text/plain": [
       "<matplotlib.axes._subplots.AxesSubplot at 0x11ffaf9b0>"
      ]
     },
     "execution_count": 79,
     "metadata": {},
     "output_type": "execute_result"
    },
    {
     "data": {
      "image/png": "[encoded data removed]",
      "text/plain": [
       "<matplotlib.figure.Figure at 0x11eb2bc88>"
      ]
     },
     "metadata": {},
     "output_type": "display_data"
    }
   ],
   "source": [
    "sns.distplot(FINAL_Day['Temp.'])"
   ]
  },
  {
   "cell_type": "code",
   "execution_count": 83,
   "metadata": {},
   "outputs": [
    {
     "ename": "AttributeError",
     "evalue": "'Series' object has no attribute 'summary'",
     "output_type": "error",
     "traceback": [
      "\u001b[0;31m---------------------------------------------------------------------------\u001b[0m",
      "\u001b[0;31mAttributeError\u001b[0m                            Traceback (most recent call last)",
      "\u001b[0;32m<ipython-input-83-fcfdc0672c06>\u001b[0m in \u001b[0;36m<module>\u001b[0;34m()\u001b[0m\n\u001b[0;32m----> 1\u001b[0;31m \u001b[0mFINAL_Day\u001b[0m\u001b[0;34m[\u001b[0m\u001b[0;34m'wind_angle'\u001b[0m\u001b[0;34m]\u001b[0m\u001b[0;34m.\u001b[0m\u001b[0msummary\u001b[0m\u001b[0;34m(\u001b[0m\u001b[0;34m)\u001b[0m\u001b[0;34m\u001b[0m\u001b[0m\n\u001b[0m",
      "\u001b[0;32m/anaconda/lib/python3.6/site-packages/pandas/core/generic.py\u001b[0m in \u001b[0;36m__getattr__\u001b[0;34m(self, name)\u001b[0m\n\u001b[1;32m   3612\u001b[0m             \u001b[0;32mif\u001b[0m \u001b[0mname\u001b[0m \u001b[0;32min\u001b[0m \u001b[0mself\u001b[0m\u001b[0;34m.\u001b[0m\u001b[0m_info_axis\u001b[0m\u001b[0;34m:\u001b[0m\u001b[0;34m\u001b[0m\u001b[0m\n\u001b[1;32m   3613\u001b[0m                 \u001b[0;32mreturn\u001b[0m \u001b[0mself\u001b[0m\u001b[0;34m[\u001b[0m\u001b[0mname\u001b[0m\u001b[0;34m]\u001b[0m\u001b[0;34m\u001b[0m\u001b[0m\n\u001b[0;32m-> 3614\u001b[0;31m             \u001b[0;32mreturn\u001b[0m \u001b[0mobject\u001b[0m\u001b[0;34m.\u001b[0m\u001b[0m__getattribute__\u001b[0m\u001b[0;34m(\u001b[0m\u001b[0mself\u001b[0m\u001b[0;34m,\u001b[0m \u001b[0mname\u001b[0m\u001b[0;34m)\u001b[0m\u001b[0;34m\u001b[0m\u001b[0m\n\u001b[0m\u001b[1;32m   3615\u001b[0m \u001b[0;34m\u001b[0m\u001b[0m\n\u001b[1;32m   3616\u001b[0m     \u001b[0;32mdef\u001b[0m \u001b[0m__setattr__\u001b[0m\u001b[0;34m(\u001b[0m\u001b[0mself\u001b[0m\u001b[0;34m,\u001b[0m \u001b[0mname\u001b[0m\u001b[0;34m,\u001b[0m \u001b[0mvalue\u001b[0m\u001b[0;34m)\u001b[0m\u001b[0;34m:\u001b[0m\u001b[0;34m\u001b[0m\u001b[0m\n",
      "\u001b[0;31mAttributeError\u001b[0m: 'Series' object has no attribute 'summary'"
     ]
    }
   ],
   "source": [
    "FINAL_Day['wind_angle'].descr"
   ]
  },
  {
   "cell_type": "code",
   "execution_count": 84,
   "metadata": {},
   "outputs": [
    {
     "data": {
      "text/html": [
       "<div>\n",
       "<style scoped>\n",
       "    .dataframe tbody tr th:only-of-type {\n",
       "        vertical-align: middle;\n",
       "    }\n",
       "\n",
       "    .dataframe tbody tr th {\n",
       "        vertical-align: top;\n",
       "    }\n",
       "\n",
       "    .dataframe thead th {\n",
       "        text-align: right;\n",
       "    }\n",
       "</style>\n",
       "<table border=\"1\" class=\"dataframe\">\n",
       "  <thead>\n",
       "    <tr style=\"text-align: right;\">\n",
       "      <th></th>\n",
       "      <th>Unnamed: 0</th>\n",
       "      <th>month</th>\n",
       "      <th>weekday</th>\n",
       "      <th>Beijing</th>\n",
       "      <th>Humidity</th>\n",
       "      <th>Pressure</th>\n",
       "      <th>Temp.</th>\n",
       "      <th>Wind Speed</th>\n",
       "      <th>wind_angle</th>\n",
       "      <th>Beijing t-1</th>\n",
       "      <th>Beijing t-2</th>\n",
       "      <th>Baotou t-1</th>\n",
       "      <th>Harbin t-1</th>\n",
       "      <th>Qingdao t-1</th>\n",
       "      <th>Xian t-1</th>\n",
       "    </tr>\n",
       "  </thead>\n",
       "  <tbody>\n",
       "    <tr>\n",
       "      <th>count</th>\n",
       "      <td>964.00000</td>\n",
       "      <td>964.000000</td>\n",
       "      <td>964.000000</td>\n",
       "      <td>964.000000</td>\n",
       "      <td>964.000000</td>\n",
       "      <td>964.000000</td>\n",
       "      <td>964.000000</td>\n",
       "      <td>964.000000</td>\n",
       "      <td>964.000000</td>\n",
       "      <td>963.000000</td>\n",
       "      <td>962.000000</td>\n",
       "      <td>963.000000</td>\n",
       "      <td>963.000000</td>\n",
       "      <td>963.000000</td>\n",
       "      <td>963.000000</td>\n",
       "    </tr>\n",
       "    <tr>\n",
       "      <th>mean</th>\n",
       "      <td>481.50000</td>\n",
       "      <td>7.041494</td>\n",
       "      <td>3.000000</td>\n",
       "      <td>80.113287</td>\n",
       "      <td>57.233230</td>\n",
       "      <td>30.010584</td>\n",
       "      <td>57.605965</td>\n",
       "      <td>6.404374</td>\n",
       "      <td>155.917726</td>\n",
       "      <td>79.882377</td>\n",
       "      <td>79.780189</td>\n",
       "      <td>49.685964</td>\n",
       "      <td>54.690247</td>\n",
       "      <td>40.878570</td>\n",
       "      <td>54.227306</td>\n",
       "    </tr>\n",
       "    <tr>\n",
       "      <th>std</th>\n",
       "      <td>278.42713</td>\n",
       "      <td>3.326526</td>\n",
       "      <td>1.998442</td>\n",
       "      <td>68.937136</td>\n",
       "      <td>19.281725</td>\n",
       "      <td>0.301620</td>\n",
       "      <td>20.048575</td>\n",
       "      <td>3.247324</td>\n",
       "      <td>51.572376</td>\n",
       "      <td>68.598947</td>\n",
       "      <td>68.561256</td>\n",
       "      <td>33.232152</td>\n",
       "      <td>65.540850</td>\n",
       "      <td>31.370959</td>\n",
       "      <td>43.185878</td>\n",
       "    </tr>\n",
       "    <tr>\n",
       "      <th>min</th>\n",
       "      <td>0.00000</td>\n",
       "      <td>1.000000</td>\n",
       "      <td>0.000000</td>\n",
       "      <td>5.958333</td>\n",
       "      <td>8.916667</td>\n",
       "      <td>29.376250</td>\n",
       "      <td>4.775000</td>\n",
       "      <td>1.754167</td>\n",
       "      <td>25.312500</td>\n",
       "      <td>5.958333</td>\n",
       "      <td>5.958333</td>\n",
       "      <td>6.416667</td>\n",
       "      <td>4.166667</td>\n",
       "      <td>3.250000</td>\n",
       "      <td>5.562500</td>\n",
       "    </tr>\n",
       "    <tr>\n",
       "      <th>25%</th>\n",
       "      <td>240.75000</td>\n",
       "      <td>4.750000</td>\n",
       "      <td>1.000000</td>\n",
       "      <td>33.187500</td>\n",
       "      <td>42.125000</td>\n",
       "      <td>29.753229</td>\n",
       "      <td>37.550000</td>\n",
       "      <td>4.366667</td>\n",
       "      <td>120.937500</td>\n",
       "      <td>33.125000</td>\n",
       "      <td>33.062500</td>\n",
       "      <td>27.750000</td>\n",
       "      <td>17.052083</td>\n",
       "      <td>19.927083</td>\n",
       "      <td>26.770833</td>\n",
       "    </tr>\n",
       "    <tr>\n",
       "      <th>50%</th>\n",
       "      <td>481.50000</td>\n",
       "      <td>7.000000</td>\n",
       "      <td>3.000000</td>\n",
       "      <td>61.906250</td>\n",
       "      <td>58.229167</td>\n",
       "      <td>30.004792</td>\n",
       "      <td>61.850000</td>\n",
       "      <td>5.581250</td>\n",
       "      <td>159.375000</td>\n",
       "      <td>61.875000</td>\n",
       "      <td>61.812500</td>\n",
       "      <td>40.583333</td>\n",
       "      <td>30.458333</td>\n",
       "      <td>32.083333</td>\n",
       "      <td>41.500000</td>\n",
       "    </tr>\n",
       "    <tr>\n",
       "      <th>75%</th>\n",
       "      <td>722.25000</td>\n",
       "      <td>10.000000</td>\n",
       "      <td>5.000000</td>\n",
       "      <td>104.791667</td>\n",
       "      <td>72.520833</td>\n",
       "      <td>30.260625</td>\n",
       "      <td>75.950000</td>\n",
       "      <td>7.350000</td>\n",
       "      <td>194.062500</td>\n",
       "      <td>104.770833</td>\n",
       "      <td>104.713542</td>\n",
       "      <td>62.125000</td>\n",
       "      <td>68.968750</td>\n",
       "      <td>51.520833</td>\n",
       "      <td>64.843750</td>\n",
       "    </tr>\n",
       "    <tr>\n",
       "      <th>max</th>\n",
       "      <td>963.00000</td>\n",
       "      <td>12.000000</td>\n",
       "      <td>6.000000</td>\n",
       "      <td>519.291667</td>\n",
       "      <td>97.958333</td>\n",
       "      <td>30.838750</td>\n",
       "      <td>90.725000</td>\n",
       "      <td>22.454167</td>\n",
       "      <td>273.750000</td>\n",
       "      <td>519.291667</td>\n",
       "      <td>519.291667</td>\n",
       "      <td>274.583333</td>\n",
       "      <td>668.041667</td>\n",
       "      <td>286.125000</td>\n",
       "      <td>405.291667</td>\n",
       "    </tr>\n",
       "  </tbody>\n",
       "</table>\n",
       "</div>"
      ],
      "text/plain": [
       "       Unnamed: 0       month     weekday     Beijing    Humidity    Pressure  \\\n",
       "count   964.00000  964.000000  964.000000  964.000000  964.000000  964.000000   \n",
       "mean    481.50000    7.041494    3.000000   80.113287   57.233230   30.010584   \n",
       "std     278.42713    3.326526    1.998442   68.937136   19.281725    0.301620   \n",
       "min       0.00000    1.000000    0.000000    5.958333    8.916667   29.376250   \n",
       "25%     240.75000    4.750000    1.000000   33.187500   42.125000   29.753229   \n",
       "50%     481.50000    7.000000    3.000000   61.906250   58.229167   30.004792   \n",
       "75%     722.25000   10.000000    5.000000  104.791667   72.520833   30.260625   \n",
       "max     963.00000   12.000000    6.000000  519.291667   97.958333   30.838750   \n",
       "\n",
       "            Temp.  Wind Speed  wind_angle  Beijing t-1  Beijing t-2  \\\n",
       "count  964.000000  964.000000  964.000000   963.000000   962.000000   \n",
       "mean    57.605965    6.404374  155.917726    79.882377    79.780189   \n",
       "std     20.048575    3.247324   51.572376    68.598947    68.561256   \n",
       "min      4.775000    1.754167   25.312500     5.958333     5.958333   \n",
       "25%     37.550000    4.366667  120.937500    33.125000    33.062500   \n",
       "50%     61.850000    5.581250  159.375000    61.875000    61.812500   \n",
       "75%     75.950000    7.350000  194.062500   104.770833   104.713542   \n",
       "max     90.725000   22.454167  273.750000   519.291667   519.291667   \n",
       "\n",
       "       Baotou t-1  Harbin t-1  Qingdao t-1    Xian t-1  \n",
       "count  963.000000  963.000000   963.000000  963.000000  \n",
       "mean    49.685964   54.690247    40.878570   54.227306  \n",
       "std     33.232152   65.540850    31.370959   43.185878  \n",
       "min      6.416667    4.166667     3.250000    5.562500  \n",
       "25%     27.750000   17.052083    19.927083   26.770833  \n",
       "50%     40.583333   30.458333    32.083333   41.500000  \n",
       "75%     62.125000   68.968750    51.520833   64.843750  \n",
       "max    274.583333  668.041667   286.125000  405.291667  "
      ]
     },
     "execution_count": 84,
     "metadata": {},
     "output_type": "execute_result"
    }
   ],
   "source": [
    "FINAL_Day.describe()"
   ]
  },
  {
   "cell_type": "markdown",
   "metadata": {},
   "source": [
    "# Modelling (Day) "
   ]
  },
  {
   "cell_type": "code",
   "execution_count": 58,
   "metadata": {},
   "outputs": [
    {
     "name": "stdout",
     "output_type": "stream",
     "text": [
      "0.884258765481839\n",
      "0.7646909102683164\n"
     ]
    }
   ],
   "source": [
    "X = FINAL_Day.drop(['Beijing','date'], 1)\n",
    "y = np.log(FINAL_Day['Beijing'])\n",
    "mu=y.mean()\n",
    "#sig=y.var()\n",
    "y=y-mu\n",
    "#y=(y-mu)/sig\n",
    "\n",
    "TrainX = X[2:842]\n",
    "TrainY = y[2:842]\n",
    "TestX = X[842:]\n",
    "TestY = y[842:]\n",
    "\n",
    "from sklearn.ensemble import RandomForestRegressor\n",
    "import sklearn.metrics\n",
    "\n",
    "RF = RandomForestRegressor(n_estimators=200, min_samples_leaf=5,random_state=25)\n",
    "RF.fit(TrainX, TrainY)\n",
    "\n",
    "preds = RF.predict(TestX)\n",
    "train_score = RF.score(TrainX, TrainY)\n",
    "score = RF.score(TestX, TestY)\n",
    "\n",
    "print(train_score)\n",
    "print(score)"
   ]
  },
  {
   "cell_type": "code",
   "execution_count": 61,
   "metadata": {},
   "outputs": [
    {
     "data": {
      "text/plain": [
       "<matplotlib.axes._subplots.AxesSubplot at 0x11ebdaf28>"
      ]
     },
     "execution_count": 61,
     "metadata": {},
     "output_type": "execute_result"
    },
    {
     "data": {
      "image/png": "[encoded data removed]",
      "text/plain": [
       "<matplotlib.figure.Figure at 0x11e9d0f60>"
      ]
     },
     "metadata": {},
     "output_type": "display_data"
    }
   ],
   "source": [
    "sns.distplot(np.exp(preds+mu))"
   ]
  },
  {
   "cell_type": "code",
   "execution_count": 62,
   "metadata": {},
   "outputs": [
    {
     "data": {
      "text/plain": [
       "0.697656648774359"
      ]
     },
     "execution_count": 62,
     "metadata": {},
     "output_type": "execute_result"
    }
   ],
   "source": [
    "r2_score(np.exp(TestY+mu),np.exp(preds+mu))"
   ]
  },
  {
   "cell_type": "code",
   "execution_count": 56,
   "metadata": {},
   "outputs": [
    {
     "data": {
      "text/plain": [
       "<matplotlib.axes._subplots.AxesSubplot at 0x11ed86908>"
      ]
     },
     "execution_count": 56,
     "metadata": {},
     "output_type": "execute_result"
    },
    {
     "data": {
      "image/png": "[encoded data removed]",
      "text/plain": [
       "<matplotlib.figure.Figure at 0x11e7ed780>"
      ]
     },
     "metadata": {},
     "output_type": "display_data"
    }
   ],
   "source": [
    "sns.distplot(FINAL_Day['Beijing'])"
   ]
  },
  {
   "cell_type": "code",
   "execution_count": 22,
   "metadata": {
    "collapsed": true
   },
   "outputs": [],
   "source": [
    "from sklearn.metrics import *"
   ]
  },
  {
   "cell_type": "code",
   "execution_count": 23,
   "metadata": {},
   "outputs": [
    {
     "data": {
      "text/plain": [
       "0.7647188786826024"
      ]
     },
     "execution_count": 23,
     "metadata": {},
     "output_type": "execute_result"
    }
   ],
   "source": [
    "r2_score(TestY,RF.predict(TestX))"
   ]
  },
  {
   "cell_type": "code",
   "execution_count": 24,
   "metadata": {},
   "outputs": [
    {
     "data": {
      "text/plain": [
       "0.6586751171650396"
      ]
     },
     "execution_count": 24,
     "metadata": {},
     "output_type": "execute_result"
    }
   ],
   "source": [
    "r2_score(np.exp(TestY),np.exp(RF.predict(TestX)))"
   ]
  },
  {
   "cell_type": "code",
   "execution_count": 12,
   "metadata": {},
   "outputs": [
    {
     "data": {
      "text/plain": [
       "(array([ 26,  53,  67, 115, 180, 202, 181,  87,  46,   7]),\n",
       " array([1.7847908 , 2.23155829, 2.67832578, 3.12509327, 3.57186076,\n",
       "        4.01862825, 4.46539574, 4.91216323, 5.35893072, 5.80569821,\n",
       "        6.2524657 ]))"
      ]
     },
     "execution_count": 12,
     "metadata": {},
     "output_type": "execute_result"
    }
   ],
   "source": [
    "np.histogram(y)"
   ]
  },
  {
   "cell_type": "code",
   "execution_count": null,
   "metadata": {},
   "outputs": [],
   "source": [
    "RFF = pd.DataFrame(np.vstack((TrainX.columns.values, RF.feature_importances_))).T\n",
    "RFF.sort_values(by=1, ascending=False)"
   ]
  },
  {
   "cell_type": "code",
   "execution_count": null,
   "metadata": {},
   "outputs": [],
   "source": [
    "np.corrcoef(preds, TestY)[0,1]**2"
   ]
  },
  {
   "cell_type": "code",
   "execution_count": null,
   "metadata": {},
   "outputs": [],
   "source": [
    "plt.figure(figsize=[5,5])\n",
    "plt.ylim(0,7)\n",
    "plt.xlim(0,7)\n",
    "plt.scatter(np.log(preds), np.log(TestY))"
   ]
  },
  {
   "cell_type": "code",
   "execution_count": null,
   "metadata": {},
   "outputs": [],
   "source": [
    "plt.figure(figsize=[5,5])\n",
    "plt.ylim(0,500)\n",
    "plt.xlim(0,500)\n",
    "plt.xlabel('Predicted Daily Average PM2.5', size=14)\n",
    "plt.ylabel('Observed PM2.5', size=14)\n",
    "plt.title('Predictions vs. Observed\\n(Daily Averages - Test Set)', size=18)\n",
    "plt.scatter(preds, TestY)"
   ]
  },
  {
   "cell_type": "code",
   "execution_count": null,
   "metadata": {},
   "outputs": [],
   "source": [
    "#FinalYear = FINAL_Day.copy()\n",
    "#FinalYear['year'] = FinalYear['date'].map(lambda x: x.year)\n",
    "#m = FinalYear.drop_duplicates(subset=['month','year'], keep='first')\n",
    "#m.tail()\n",
    "\n",
    "labels = ['9/1/2016', '10/1/2016', '11/1/2016', '12/1/2016']\n",
    "pos = [842, 872, 903, 933]\n",
    "\n",
    "plt.figure(figsize=(20, 10))\n",
    "plt.plot(TestY, label= 'Observations')\n",
    "plt.plot(np.arange(833, 964), preds, label='Predictions')\n",
    "plt.title('Daily Predictions of Random Forest Model \\n(8/23/16 to 12/31/16)', size=24)\n",
    "plt.xticks(pos, labels, size=14)\n",
    "plt.legend(prop={'size':20})\n",
    "print()"
   ]
  },
  {
   "cell_type": "markdown",
   "metadata": {},
   "source": [
    "#  RNN"
   ]
  },
  {
   "cell_type": "code",
   "execution_count": 66,
   "metadata": {},
   "outputs": [],
   "source": [
    "import pandas as pd\n",
    "import seaborn as sns\n",
    "from tstoolbox.tstoolbox import fill\n",
    "import numpy as np\n",
    "from dateutil.parser import parse\n",
    "import datetime\n",
    "from sklearn.linear_model import LinearRegression\n",
    "from keras.preprocessing.text import Tokenizer\n",
    "from keras.preprocessing.sequence import pad_sequences\n",
    "from keras.layers import *\n",
    "from keras.layers.core import Lambda\n",
    "from keras.layers.merge import concatenate, add, multiply\n",
    "from keras.models import Model\n",
    "from keras.layers.normalization import BatchNormalization\n",
    "from keras.callbacks import EarlyStopping, ModelCheckpoint\n",
    "from keras.layers.noise import GaussianNoise\n",
    "from nltk.stem.wordnet import WordNetLemmatizer\n",
    "from nltk.corpus import stopwords\n",
    "from keras.layers.pooling import MaxPooling1D\n",
    "from keras.layers.core import Flatten\n",
    "from keras.layers.wrappers import TimeDistributed\n",
    "from keras.models import Sequential\n",
    "import pickle\n",
    "from keras import optimizers\n",
    "\n",
    "\n",
    "def format_data( X , y, seq_len = 60, stride = 5):\n",
    "\n",
    "    horizon=1\n",
    "    n = X.shape[0] - seq_len - 1\n",
    "    n = n // stride\n",
    "\n",
    "    _input = np.zeros((n , seq_len, X.shape[1]))\n",
    "    _output = np.zeros((n ))\n",
    "\n",
    "    for i in range(0,n):\n",
    "\n",
    "        if i* stride + seq_len + horizon - 1 < y.shape[0]:\n",
    "            _input[i] = X[i * stride:i * stride+ seq_len]\n",
    "            _output[i] = y[i* stride + seq_len + horizon - 1 ]\n",
    "\n",
    "    return _input , _output\n",
    "\n",
    "\n",
    "X_train_rnn,y_train_rnn=format_data(np.array(TrainX),np.array(TrainY),seq_len=5,stride=1)\n",
    "X_test_rnn,y_test_rnn=format_data(np.array(TestX),np.array(TestY),seq_len=5,stride=1)\n",
    "\n",
    "#y_train_rnn=np.log(y_train_rnn)\n",
    "#y_test_rnn=np.log(y_test_rnn)"
   ]
  },
  {
   "cell_type": "code",
   "execution_count": 67,
   "metadata": {},
   "outputs": [
    {
     "data": {
      "text/plain": [
       "<matplotlib.axes._subplots.AxesSubplot at 0x11eb5aef0>"
      ]
     },
     "execution_count": 67,
     "metadata": {},
     "output_type": "execute_result"
    },
    {
     "data": {
      "image/png": "[encoded data removed]",
      "text/plain": [
       "<matplotlib.figure.Figure at 0x106b532b0>"
      ]
     },
     "metadata": {},
     "output_type": "display_data"
    }
   ],
   "source": [
    "sns.distplot(y_test_rnn)"
   ]
  },
  {
   "cell_type": "code",
   "execution_count": 68,
   "metadata": {
    "scrolled": false
   },
   "outputs": [
    {
     "name": "stdout",
     "output_type": "stream",
     "text": [
      "Train on 834 samples, validate on 116 samples\n",
      "Epoch 1/60\n",
      "834/834 [==============================] - 1s 2ms/step - loss: 0.9822 - val_loss: 1.1234\n",
      "Epoch 2/60\n",
      "834/834 [==============================] - 0s 339us/step - loss: 0.8324 - val_loss: 1.0993\n",
      "Epoch 3/60\n",
      "834/834 [==============================] - 0s 314us/step - loss: 0.7591 - val_loss: 1.1088\n",
      "Epoch 4/60\n",
      "834/834 [==============================] - 0s 361us/step - loss: 0.7003 - val_loss: 1.0069\n",
      "Epoch 5/60\n",
      "834/834 [==============================] - 0s 412us/step - loss: 0.6591 - val_loss: 1.0387\n",
      "Epoch 6/60\n",
      "834/834 [==============================] - 0s 337us/step - loss: 0.6292 - val_loss: 1.1276\n",
      "Epoch 7/60\n",
      "834/834 [==============================] - 0s 273us/step - loss: 0.5996 - val_loss: 1.1804\n",
      "Epoch 8/60\n",
      "834/834 [==============================] - 0s 280us/step - loss: 0.5749 - val_loss: 1.1042\n",
      "Epoch 9/60\n",
      "834/834 [==============================] - 0s 252us/step - loss: 0.5503 - val_loss: 1.1371\n",
      "Epoch 10/60\n",
      "834/834 [==============================] - 0s 246us/step - loss: 0.5395 - val_loss: 1.1666\n",
      "Epoch 11/60\n",
      "834/834 [==============================] - 0s 254us/step - loss: 0.5260 - val_loss: 1.1521\n",
      "Epoch 12/60\n",
      "834/834 [==============================] - 0s 329us/step - loss: 0.5158 - val_loss: 1.1231\n",
      "Epoch 13/60\n",
      "834/834 [==============================] - 0s 409us/step - loss: 0.5029 - val_loss: 1.1509\n",
      "Epoch 14/60\n",
      "834/834 [==============================] - 0s 397us/step - loss: 0.4915 - val_loss: 1.0717\n",
      "Epoch 15/60\n",
      "834/834 [==============================] - 0s 420us/step - loss: 0.4945 - val_loss: 1.2003\n",
      "Epoch 16/60\n",
      "834/834 [==============================] - 0s 325us/step - loss: 0.4863 - val_loss: 1.0822\n",
      "Epoch 17/60\n",
      "834/834 [==============================] - 0s 341us/step - loss: 0.4725 - val_loss: 1.0523\n",
      "Epoch 18/60\n",
      "834/834 [==============================] - 0s 330us/step - loss: 0.4685 - val_loss: 1.1356\n",
      "Epoch 19/60\n",
      "834/834 [==============================] - 0s 325us/step - loss: 0.4704 - val_loss: 1.0329\n",
      "Epoch 20/60\n",
      "834/834 [==============================] - 0s 321us/step - loss: 0.4636 - val_loss: 1.1005\n",
      "Epoch 21/60\n",
      "834/834 [==============================] - 0s 338us/step - loss: 0.4521 - val_loss: 1.0840\n",
      "Epoch 22/60\n",
      "834/834 [==============================] - 0s 371us/step - loss: 0.4453 - val_loss: 1.0609\n",
      "Epoch 23/60\n",
      "834/834 [==============================] - 0s 372us/step - loss: 0.4410 - val_loss: 1.0216\n",
      "Epoch 24/60\n",
      "834/834 [==============================] - 0s 342us/step - loss: 0.4330 - val_loss: 1.1084\n",
      "Epoch 25/60\n",
      "834/834 [==============================] - 0s 335us/step - loss: 0.4268 - val_loss: 0.9609\n",
      "Epoch 26/60\n",
      "834/834 [==============================] - 0s 337us/step - loss: 0.4255 - val_loss: 1.0267\n",
      "Epoch 27/60\n",
      "834/834 [==============================] - 0s 368us/step - loss: 0.4240 - val_loss: 0.8807\n",
      "Epoch 28/60\n",
      "834/834 [==============================] - 0s 368us/step - loss: 0.4224 - val_loss: 1.0696\n",
      "Epoch 29/60\n",
      "834/834 [==============================] - 0s 345us/step - loss: 0.4165 - val_loss: 0.9994\n",
      "Epoch 30/60\n",
      "834/834 [==============================] - 0s 354us/step - loss: 0.4097 - val_loss: 0.9970\n",
      "Epoch 31/60\n",
      "834/834 [==============================] - 0s 331us/step - loss: 0.4033 - val_loss: 1.0107\n",
      "Epoch 32/60\n",
      "834/834 [==============================] - 0s 338us/step - loss: 0.3970 - val_loss: 0.9836\n",
      "Epoch 33/60\n",
      "834/834 [==============================] - 0s 348us/step - loss: 0.3903 - val_loss: 0.9376\n",
      "Epoch 34/60\n",
      "834/834 [==============================] - 0s 362us/step - loss: 0.3933 - val_loss: 0.9833\n",
      "Epoch 35/60\n",
      "834/834 [==============================] - 0s 330us/step - loss: 0.3916 - val_loss: 0.9824\n",
      "Epoch 36/60\n",
      "834/834 [==============================] - 0s 361us/step - loss: 0.3808 - val_loss: 0.9548\n",
      "Epoch 37/60\n",
      "834/834 [==============================] - 0s 401us/step - loss: 0.3723 - val_loss: 0.9619\n",
      "Epoch 38/60\n",
      "834/834 [==============================] - 0s 339us/step - loss: 0.3655 - val_loss: 0.9910\n",
      "Epoch 39/60\n",
      "834/834 [==============================] - 0s 355us/step - loss: 0.3714 - val_loss: 0.9155\n",
      "Epoch 40/60\n",
      "834/834 [==============================] - 0s 396us/step - loss: 0.3640 - val_loss: 0.9280\n",
      "Epoch 41/60\n",
      "834/834 [==============================] - 0s 342us/step - loss: 0.3600 - val_loss: 0.8700\n",
      "Epoch 42/60\n",
      "834/834 [==============================] - 0s 368us/step - loss: 0.3538 - val_loss: 0.9338\n",
      "Epoch 43/60\n",
      "834/834 [==============================] - 0s 340us/step - loss: 0.3503 - val_loss: 0.8771\n",
      "Epoch 44/60\n",
      "834/834 [==============================] - 0s 383us/step - loss: 0.3478 - val_loss: 0.9495\n",
      "Epoch 45/60\n",
      "834/834 [==============================] - 0s 329us/step - loss: 0.3504 - val_loss: 0.8602\n",
      "Epoch 46/60\n",
      "834/834 [==============================] - 0s 336us/step - loss: 0.3443 - val_loss: 0.9382\n",
      "Epoch 47/60\n",
      "834/834 [==============================] - 0s 328us/step - loss: 0.3443 - val_loss: 0.9155\n",
      "Epoch 48/60\n",
      "834/834 [==============================] - 0s 327us/step - loss: 0.3376 - val_loss: 0.8931\n",
      "Epoch 49/60\n",
      "834/834 [==============================] - 0s 376us/step - loss: 0.3345 - val_loss: 0.9348\n",
      "Epoch 50/60\n",
      "834/834 [==============================] - 0s 365us/step - loss: 0.3315 - val_loss: 0.9417\n",
      "Epoch 51/60\n",
      "834/834 [==============================] - 0s 329us/step - loss: 0.3334 - val_loss: 0.8599\n",
      "Epoch 52/60\n",
      "834/834 [==============================] - 0s 335us/step - loss: 0.3210 - val_loss: 0.8737\n",
      "Epoch 53/60\n",
      "834/834 [==============================] - 0s 345us/step - loss: 0.3269 - val_loss: 0.8571\n",
      "Epoch 54/60\n",
      "834/834 [==============================] - 0s 371us/step - loss: 0.3196 - val_loss: 0.8674\n",
      "Epoch 55/60\n",
      "834/834 [==============================] - 0s 316us/step - loss: 0.3124 - val_loss: 0.8601\n",
      "Epoch 56/60\n",
      "834/834 [==============================] - 0s 311us/step - loss: 0.3132 - val_loss: 0.9291\n",
      "Epoch 57/60\n",
      "834/834 [==============================] - 0s 364us/step - loss: 0.3179 - val_loss: 0.8397\n",
      "Epoch 58/60\n",
      "834/834 [==============================] - 0s 357us/step - loss: 0.3229 - val_loss: 0.9450\n",
      "Epoch 59/60\n",
      "834/834 [==============================] - 0s 349us/step - loss: 0.3213 - val_loss: 0.8553\n",
      "Epoch 60/60\n",
      "834/834 [==============================] - 0s 376us/step - loss: 0.3225 - val_loss: 0.8803\n"
     ]
    },
    {
     "data": {
      "text/plain": [
       "<keras.callbacks.History at 0x11e011b70>"
      ]
     },
     "execution_count": 68,
     "metadata": {},
     "output_type": "execute_result"
    }
   ],
   "source": [
    "model = Sequential()\n",
    "model.add(LSTM(32, input_shape=(X_train_rnn.shape[1],X_train_rnn.shape[2]),recurrent_dropout=0, return_sequences=False, stateful=False))\n",
    "model.add(Dense(1 , activation='linear'))\n",
    "\n",
    "\n",
    "sgd = optimizers.SGD(lr=0.1, clipnorm=1.)\n",
    "adam=optimizers.Adam(lr=.001,clipnorm=1.)\n",
    "\n",
    "#model.compile(loss='mean_squared_error' ,optimizer='adam')\n",
    "model.compile(loss='mean_squared_error' ,optimizer=adam)\n",
    "\n",
    "model.fit(X_train_rnn, y_train_rnn, batch_size=64, nb_epoch=60,\n",
    "              validation_data=(X_test_rnn, y_test_rnn), shuffle=True , verbose=1)\n"
   ]
  },
  {
   "cell_type": "code",
   "execution_count": 71,
   "metadata": {
    "collapsed": true
   },
   "outputs": [],
   "source": [
    "y_hat=model.predict(X_test_rnn).flatten()\n"
   ]
  },
  {
   "cell_type": "code",
   "execution_count": 72,
   "metadata": {},
   "outputs": [
    {
     "data": {
      "text/plain": [
       "-0.2552159712073221"
      ]
     },
     "execution_count": 72,
     "metadata": {},
     "output_type": "execute_result"
    }
   ],
   "source": [
    "r2_score(np.exp(y_test_rnn+mu),np.exp(y_hat+mu))"
   ]
  },
  {
   "cell_type": "code",
   "execution_count": null,
   "metadata": {
    "collapsed": true
   },
   "outputs": [],
   "source": [
    "3.89"
   ]
  },
  {
   "cell_type": "code",
   "execution_count": null,
   "metadata": {},
   "outputs": [],
   "source": [
    "np.corrcoef(np.exp(y_hat),np.exp(y_test_rnn))[0,1]**2"
   ]
  },
  {
   "cell_type": "code",
   "execution_count": null,
   "metadata": {},
   "outputs": [],
   "source": [
    "sns.distplot(np.log(TrainY))"
   ]
  },
  {
   "cell_type": "markdown",
   "metadata": {},
   "source": [
    "# GP"
   ]
  },
  {
   "cell_type": "code",
   "execution_count": 76,
   "metadata": {},
   "outputs": [],
   "source": [
    "\n",
    "x=np.expand_dims(np.arange(0,FINAL_Day['Beijing'].shape[0]),1)\n",
    "split=842\n",
    "ts=np.log(np.array(FINAL_Day['Beijing']))\n",
    "mu=ts.mean()\n",
    "sig=ts.var()\n",
    "ts=(ts-mu)/sig\n",
    "\n",
    "#X_train_gp=np.expand_dims(np.arange(0,TrainY.shape[0]),1)\n",
    "#X_test_gp=np.expand_dims(np.arange(TrainY.shape[0],TrainY.shape[0]+TestY.shape[0]),1)"
   ]
  },
  {
   "cell_type": "code",
   "execution_count": 77,
   "metadata": {},
   "outputs": [
    {
     "data": {
      "text/plain": [
       "(964, 1)"
      ]
     },
     "execution_count": 77,
     "metadata": {},
     "output_type": "execute_result"
    }
   ],
   "source": [
    "x.shape"
   ]
  },
  {
   "cell_type": "code",
   "execution_count": 78,
   "metadata": {},
   "outputs": [],
   "source": [
    "from sklearn.gaussian_process import *\n",
    "\n",
    "y_hat=[np.array([ts[0]])]\n",
    "cov=[np.array([[0]])]\n",
    "\n",
    "for i in range(1,len(ts)):\n",
    "    \n",
    "    train_y = ts[:i]\n",
    "    train_X = x[:i]\n",
    "\n",
    "    test_y = ts[i]\n",
    "    test_X = x[i:i+1]\n",
    "    \n",
    "    \n",
    "    gp = GaussianProcessRegressor()\n",
    "    gp.fit(train_X,train_y)\n",
    "\n",
    "    \n",
    "    pred,c = gp.predict(test_X,return_cov=True)\n",
    "    y_hat.append(pred)\n",
    "    cov.append(c)\n",
    "    \n",
    "    \n",
    "test_y = ts[split:]\n",
    "y_hat=np.stack(y_hat).flatten()\n",
    "cov=np.stack(cov).flatten()\n"
   ]
  },
  {
   "cell_type": "code",
   "execution_count": 30,
   "metadata": {
    "collapsed": true
   },
   "outputs": [],
   "source": [
    "split=842"
   ]
  },
  {
   "cell_type": "code",
   "execution_count": null,
   "metadata": {
    "collapsed": true
   },
   "outputs": [],
   "source": []
  },
  {
   "cell_type": "code",
   "execution_count": 39,
   "metadata": {},
   "outputs": [
    {
     "data": {
      "text/plain": [
       "0.3545054910475719"
      ]
     },
     "execution_count": 39,
     "metadata": {},
     "output_type": "execute_result"
    }
   ],
   "source": [
    "\n",
    "target=np.exp(TestY*sig+mu)\n",
    "target=np.array(FINAL_Day['Beijing'])[split:]\n",
    "pred=np.exp(y_hat*sig+mu)[split:]\n",
    "r2_score(target,pred)"
   ]
  },
  {
   "cell_type": "code",
   "execution_count": 73,
   "metadata": {},
   "outputs": [
    {
     "data": {
      "text/plain": [
       "0.5916079783099616"
      ]
     },
     "execution_count": 73,
     "metadata": {},
     "output_type": "execute_result"
    }
   ],
   "source": [
    "np.sqrt(.35)"
   ]
  },
  {
   "cell_type": "code",
   "execution_count": 42,
   "metadata": {},
   "outputs": [
    {
     "data": {
      "text/plain": [
       "array([], dtype=float64)"
      ]
     },
     "execution_count": 42,
     "metadata": {},
     "output_type": "execute_result"
    }
   ],
   "source": [
    "target[split:]"
   ]
  },
  {
   "cell_type": "code",
   "execution_count": 43,
   "metadata": {},
   "outputs": [
    {
     "data": {
      "text/plain": [
       "<matplotlib.axes._subplots.AxesSubplot at 0x11d5dc320>"
      ]
     },
     "execution_count": 43,
     "metadata": {},
     "output_type": "execute_result"
    },
    {
     "data": {
      "image/png": "[encoded data removed]",
      "text/plain": [
       "<matplotlib.figure.Figure at 0x11d471828>"
      ]
     },
     "metadata": {},
     "output_type": "display_data"
    }
   ],
   "source": [
    "import seaborn as sns\n",
    "%matplotlib inline\n",
    "\n",
    "sns.tsplot(target)\n",
    "sns.tsplot(pred,color='r')"
   ]
  },
  {
   "cell_type": "code",
   "execution_count": 45,
   "metadata": {},
   "outputs": [
    {
     "data": {
      "text/plain": [
       "<matplotlib.axes._subplots.AxesSubplot at 0x11d6e6dd8>"
      ]
     },
     "execution_count": 45,
     "metadata": {},
     "output_type": "execute_result"
    },
    {
     "data": {
      "image/png": "[encoded data removed]",
      "text/plain": [
       "<matplotlib.figure.Figure at 0x11d66c8d0>"
      ]
     },
     "metadata": {},
     "output_type": "display_data"
    }
   ],
   "source": [
    "sns.regplot(target,pred)"
   ]
  },
  {
   "cell_type": "code",
   "execution_count": null,
   "metadata": {},
   "outputs": [],
   "source": [
    "split"
   ]
  },
  {
   "cell_type": "code",
   "execution_count": null,
   "metadata": {},
   "outputs": [],
   "source": [
    "M=np.exp(y_hat*sig+mu)[split+2:split+20]\n",
    "S=np.zeros((M.shape[0],M.shape[0]))\n",
    "np.fill_diagonal(S,np.exp(cov*sig+mu)[split+2:split+20])\n",
    "#S=np.exp(cov*sig+mu)[split+2:split+20]\n",
    "\n",
    "samples=np.random.multivariate_normal(mean=M,cov=S,size=10)"
   ]
  },
  {
   "cell_type": "code",
   "execution_count": null,
   "metadata": {},
   "outputs": [],
   "source": [
    "\n",
    "n=40\n",
    "m=10\n",
    "t=np.arange(n-m)\n",
    "\n",
    "target=np.exp(ts*sig+mu)[split+m:split+n]\n",
    "pred=np.exp(y_hat*sig+mu)[split+m:split+n]\n",
    "upper=np.exp((y_hat+cov*1.96)*sig+mu)[split+m:split+n]\n",
    "lower=np.exp((y_hat-cov*1.96)*sig+mu)[split+m:split+n]\n",
    "\n",
    "\n",
    "plt.title(\"Gaussian Process Predictions\")\n",
    "plt.plot(t, pred, 'r-', label=u'Prediction')\n",
    "plt.fill(np.concatenate([t, t[::-1]]),\n",
    "         np.concatenate([lower,\n",
    "                        (upper)[::-1]]),\n",
    "         alpha=.5, fc='r', ec='None', label='95% confidence interval')\n",
    "\n",
    "plt.plot(t, target, 'b', markersize=20, label=u'Observations')\n"
   ]
  },
  {
   "cell_type": "code",
   "execution_count": null,
   "metadata": {},
   "outputs": [],
   "source": [
    "#sns.set(color_codes=True)\n",
    "sns.tsplot(data=samples,ci=100)\n"
   ]
  },
  {
   "cell_type": "code",
   "execution_count": null,
   "metadata": {},
   "outputs": [],
   "source": [
    "np.isnan(samples).sum()"
   ]
  },
  {
   "cell_type": "code",
   "execution_count": null,
   "metadata": {},
   "outputs": [],
   "source": [
    "\n",
    "plt.title('Gaussian Process Predictions')\n",
    "sns.tsplot(np.exp(y_hat*sig+mu)[split+2:split+20],color='r')\n",
    "sns.tsplot(np.exp((y_hat+cov)*sig+mu)[split+2:split+20],color='r')\n",
    "sns.tsplot(np.exp((y_hat-cov)*sig+mu)[split+2:split+20],color='r')\n",
    "\n",
    "sns.tsplot(np.exp(ts*sig+mu)[split+2:split+20])"
   ]
  },
  {
   "cell_type": "code",
   "execution_count": null,
   "metadata": {},
   "outputs": [],
   "source": [
    "\n",
    "plt.title('Residual vs. Humidity')\n",
    "plt.ylabel(\"Residual\")\n",
    "sns.regplot(FINAL_Day['Humidity'].iloc[split:],(np.exp(y_hat*sig+mu)-np.exp(ts*sig+mu))[split:])"
   ]
  },
  {
   "cell_type": "code",
   "execution_count": null,
   "metadata": {
    "collapsed": true
   },
   "outputs": [],
   "source": [
    "np.corrcoef(np.exp(y_hat[-133:]),np.exp(ts[split:]))"
   ]
  },
  {
   "cell_type": "code",
   "execution_count": null,
   "metadata": {
    "collapsed": true
   },
   "outputs": [],
   "source": [
    "X = np.array(FINAL_Day.drop(['Beijing','date'], 1))\n"
   ]
  },
  {
   "cell_type": "code",
   "execution_count": null,
   "metadata": {},
   "outputs": [],
   "source": [
    "X.shape,cov.shape"
   ]
  },
  {
   "cell_type": "code",
   "execution_count": null,
   "metadata": {},
   "outputs": [],
   "source": [
    "np.hstack([X,np.expand_dims(y_hat,1),np.expand_dims(cov,1)]).shape"
   ]
  },
  {
   "cell_type": "code",
   "execution_count": 74,
   "metadata": {},
   "outputs": [
    {
     "ename": "ValueError",
     "evalue": "all the input array dimensions except for the concatenation axis must match exactly",
     "output_type": "error",
     "traceback": [
      "\u001b[0;31m---------------------------------------------------------------------------\u001b[0m",
      "\u001b[0;31mValueError\u001b[0m                                Traceback (most recent call last)",
      "\u001b[0;32m<ipython-input-74-f560dc82246d>\u001b[0m in \u001b[0;36m<module>\u001b[0;34m()\u001b[0m\n\u001b[1;32m      3\u001b[0m \u001b[0;32mfor\u001b[0m \u001b[0mi\u001b[0m \u001b[0;32min\u001b[0m \u001b[0mrange\u001b[0m\u001b[0;34m(\u001b[0m\u001b[0;36m20\u001b[0m\u001b[0;34m)\u001b[0m\u001b[0;34m:\u001b[0m\u001b[0;34m\u001b[0m\u001b[0m\n\u001b[1;32m      4\u001b[0m     \u001b[0mX\u001b[0m \u001b[0;34m=\u001b[0m \u001b[0mnp\u001b[0m\u001b[0;34m.\u001b[0m\u001b[0marray\u001b[0m\u001b[0;34m(\u001b[0m\u001b[0mFINAL_Day\u001b[0m\u001b[0;34m.\u001b[0m\u001b[0mdrop\u001b[0m\u001b[0;34m(\u001b[0m\u001b[0;34m[\u001b[0m\u001b[0;34m'Beijing'\u001b[0m\u001b[0;34m,\u001b[0m\u001b[0;34m'date'\u001b[0m\u001b[0;34m]\u001b[0m\u001b[0;34m,\u001b[0m \u001b[0;36m1\u001b[0m\u001b[0;34m)\u001b[0m\u001b[0;34m)\u001b[0m\u001b[0;34m\u001b[0m\u001b[0m\n\u001b[0;32m----> 5\u001b[0;31m     \u001b[0mX\u001b[0m\u001b[0;34m=\u001b[0m\u001b[0mnp\u001b[0m\u001b[0;34m.\u001b[0m\u001b[0mhstack\u001b[0m\u001b[0;34m(\u001b[0m\u001b[0;34m[\u001b[0m\u001b[0mX\u001b[0m\u001b[0;34m,\u001b[0m\u001b[0mnp\u001b[0m\u001b[0;34m.\u001b[0m\u001b[0mexpand_dims\u001b[0m\u001b[0;34m(\u001b[0m\u001b[0my_hat\u001b[0m\u001b[0;34m,\u001b[0m\u001b[0;36m1\u001b[0m\u001b[0;34m)\u001b[0m\u001b[0;34m,\u001b[0m\u001b[0mnp\u001b[0m\u001b[0;34m.\u001b[0m\u001b[0mexpand_dims\u001b[0m\u001b[0;34m(\u001b[0m\u001b[0mcov\u001b[0m\u001b[0;34m,\u001b[0m\u001b[0;36m1\u001b[0m\u001b[0;34m)\u001b[0m\u001b[0;34m]\u001b[0m\u001b[0;34m)\u001b[0m\u001b[0;34m\u001b[0m\u001b[0m\n\u001b[0m\u001b[1;32m      6\u001b[0m \u001b[0;34m\u001b[0m\u001b[0m\n\u001b[1;32m      7\u001b[0m     \u001b[0my\u001b[0m \u001b[0;34m=\u001b[0m \u001b[0mFINAL_Day\u001b[0m\u001b[0;34m[\u001b[0m\u001b[0;34m'Beijing'\u001b[0m\u001b[0;34m]\u001b[0m\u001b[0;34m\u001b[0m\u001b[0m\n",
      "\u001b[0;32m/anaconda/lib/python3.6/site-packages/numpy/core/shape_base.py\u001b[0m in \u001b[0;36mhstack\u001b[0;34m(tup)\u001b[0m\n\u001b[1;32m    286\u001b[0m         \u001b[0;32mreturn\u001b[0m \u001b[0m_nx\u001b[0m\u001b[0;34m.\u001b[0m\u001b[0mconcatenate\u001b[0m\u001b[0;34m(\u001b[0m\u001b[0marrs\u001b[0m\u001b[0;34m,\u001b[0m \u001b[0;36m0\u001b[0m\u001b[0;34m)\u001b[0m\u001b[0;34m\u001b[0m\u001b[0m\n\u001b[1;32m    287\u001b[0m     \u001b[0;32melse\u001b[0m\u001b[0;34m:\u001b[0m\u001b[0;34m\u001b[0m\u001b[0m\n\u001b[0;32m--> 288\u001b[0;31m         \u001b[0;32mreturn\u001b[0m \u001b[0m_nx\u001b[0m\u001b[0;34m.\u001b[0m\u001b[0mconcatenate\u001b[0m\u001b[0;34m(\u001b[0m\u001b[0marrs\u001b[0m\u001b[0;34m,\u001b[0m \u001b[0;36m1\u001b[0m\u001b[0;34m)\u001b[0m\u001b[0;34m\u001b[0m\u001b[0m\n\u001b[0m\u001b[1;32m    289\u001b[0m \u001b[0;34m\u001b[0m\u001b[0m\n\u001b[1;32m    290\u001b[0m \u001b[0;34m\u001b[0m\u001b[0m\n",
      "\u001b[0;31mValueError\u001b[0m: all the input array dimensions except for the concatenation axis must match exactly"
     ]
    }
   ],
   "source": [
    "S=[]\n",
    "\n",
    "for i in range(20):\n",
    "    X = np.array(FINAL_Day.drop(['Beijing','date'], 1))\n",
    "    X=np.hstack([X,np.expand_dims(y_hat,1),np.expand_dims(cov,1)])\n",
    "\n",
    "    y = FINAL_Day['Beijing']\n",
    "\n",
    "    TrainX = X[2:842]\n",
    "    TrainY = y[2:842]\n",
    "    TestX = X[842:]\n",
    "    TestY = y[842:]\n",
    "\n",
    "    from sklearn.ensemble import RandomForestRegressor\n",
    "    import sklearn.metrics\n",
    "\n",
    "    RF = RandomForestRegressor(n_estimators=200, min_samples_leaf=5)\n",
    "    RF.fit(TrainX, TrainY)\n",
    "\n",
    "    preds = RF.predict(TestX)\n",
    "    train_score = RF.score(TrainX, TrainY)\n",
    "    score = RF.score(TestX, TestY)\n",
    "\n",
    "    S.append(score)\n",
    "    #print(train_score)\n",
    "    #print(score)\n",
    "    \n",
    "print(np.array(S).mean())"
   ]
  },
  {
   "cell_type": "code",
   "execution_count": 75,
   "metadata": {},
   "outputs": [
    {
     "data": {
      "text/plain": [
       "((964, 14), (116,), (964,))"
      ]
     },
     "execution_count": 75,
     "metadata": {},
     "output_type": "execute_result"
    }
   ],
   "source": [
    "X.shape,y_hat.shape,cov.shape"
   ]
  },
  {
   "cell_type": "code",
   "execution_count": null,
   "metadata": {
    "collapsed": true
   },
   "outputs": [],
   "source": [
    ".698"
   ]
  },
  {
   "cell_type": "code",
   "execution_count": null,
   "metadata": {
    "collapsed": true
   },
   "outputs": [],
   "source": [
    ".701"
   ]
  },
  {
   "cell_type": "markdown",
   "metadata": {},
   "source": [
    "--------"
   ]
  },
  {
   "cell_type": "markdown",
   "metadata": {},
   "source": [
    "----"
   ]
  },
  {
   "cell_type": "markdown",
   "metadata": {},
   "source": [
    "# Old Work (can ignore) "
   ]
  },
  {
   "cell_type": "code",
   "execution_count": null,
   "metadata": {
    "collapsed": true
   },
   "outputs": [],
   "source": [
    "#datasets = []\n",
    "#for m in metros_to_use:\n",
    "#    datasets.append(add_autoregressive_features(PM_less.copy(), m))\n",
    "#datasets[1].tail()\n",
    "\n",
    "\n",
    "#for d in range(len(datasets)):\n",
    "#    df = datasets[d]\n",
    "#    if d == 1:\n",
    "#        datasets[d] = add_other_stations(df.copy(), ['Baotou', 'Harbin', 'Qingdao'])\n",
    "#    else:\n",
    "#        datasets[d] = add_other_stations(df.copy(), metros_to_use)\n",
    "#datasets[1].tail()\n",
    "\n",
    "\"\"\"\n",
    "def turn_target_into_categorical_variable(DF, StationID):\n",
    "    '''\n",
    "    This function turns the target variable AQI into a categorical variable with \n",
    "    three classes.\n",
    "    AQI 0-100: \"Excellent to Good\" -- class 0\n",
    "    AQI 101-200: \"Lightly to Moderately Polluted\" -- class 1\n",
    "    AQI 200+: \"Heavily Polluted\" -- class 2\n",
    "    '''\n",
    "    DF[StationID+'_target'] = np.where(DF[StationID]>200, 2, 1) \n",
    "    DF[StationID+'_target'] = np.where(DF[StationID]<101, 0, DF[StationID+'_target'])\n",
    "    return DF \n",
    "    \n",
    "for d in range(len(datasets)):\n",
    "    df = datasets[d]\n",
    "    metro = metros_to_use[d]\n",
    "    datasets[d] = datasets[d].drop('date', 1)\n",
    "    #datasets[d] = final_cleaning(df.copy(), metro)\n",
    "    #datasets[d] = turn_target_into_categorical_variable(datasets[d], station)\n",
    "datasets[1].tail()\n",
    "\"\"\""
   ]
  },
  {
   "cell_type": "code",
   "execution_count": null,
   "metadata": {
    "collapsed": true
   },
   "outputs": [],
   "source": [
    "TrainXs = []\n",
    "TrainYs = []\n",
    "TestXs = []\n",
    "TestYs = []\n",
    "\n",
    "for d in range(len(datasets)):\n",
    "    SET = datasets[d]\n",
    "    StationID = metros_to_use[d]\n",
    "    Train = SET[:20000]\n",
    "    Test = SET[20000:]\n",
    "\n",
    "    #Drop training observations with insufficient data (e.g. records within the first 120 hours of dataset)\n",
    "    Train = Train.dropna()\n",
    "    TrainX = Train.drop([StationID, StationID+'_target'], 1)\n",
    "    TrainY = Train[StationID+'_target']\n",
    "    TestX = Test.drop([StationID, StationID+'_target'], 1)\n",
    "    TestY = Test[StationID+'_target']\n",
    "    \n",
    "    TrainXs.append(TrainX)\n",
    "    TrainYs.append(TrainY)\n",
    "    TestXs.append(TestX)\n",
    "    TestYs.append(TestY)"
   ]
  },
  {
   "cell_type": "markdown",
   "metadata": {},
   "source": [
    "### Baselines under classification scheme "
   ]
  },
  {
   "cell_type": "code",
   "execution_count": null,
   "metadata": {},
   "outputs": [],
   "source": [
    "datasets[0].groupby('1589A_target').count()[['month']]/len(datasets[0])"
   ]
  },
  {
   "cell_type": "code",
   "execution_count": null,
   "metadata": {
    "collapsed": true
   },
   "outputs": [],
   "source": [
    "def baselines_per_class(df, stationID):\n",
    "    '''This function calculates the percentage of observations in each class (0, 1, and 2) for a \n",
    "    particular city. Returns a baseline for accuracy (class with maximum frequency) and a baseline \n",
    "    for recall (percentage of time Class=2 appears)\n",
    "    '''\n",
    "    #pick arbitrary column month\n",
    "    acc_by_class = df.groupby(stationID+'_target').count()[['month']]/len(df)\n",
    "    baseline_acc = round(acc_by_class['month'].max(), 3)\n",
    "    baseline_rec = round(acc_by_class.loc[2, 'month'], 3)\n",
    "    return baseline_acc, baseline_rec"
   ]
  },
  {
   "cell_type": "code",
   "execution_count": null,
   "metadata": {
    "collapsed": true
   },
   "outputs": [],
   "source": [
    "baseline_accs = []\n",
    "baseline_recs = []\n",
    "\n",
    "for d in range(len(datasets)):\n",
    "    baseline_acc, baseline_rec = baselines_per_class(datasets[d], stations_to_use[d])\n",
    "    baseline_accs.append(baseline_acc)\n",
    "    baseline_recs.append(baseline_rec)"
   ]
  },
  {
   "cell_type": "markdown",
   "metadata": {},
   "source": [
    "# Initial Model -- Decision Tree Classifier"
   ]
  },
  {
   "cell_type": "code",
   "execution_count": null,
   "metadata": {},
   "outputs": [],
   "source": [
    "from sklearn.tree import DecisionTreeClassifier\n",
    "import sklearn.metrics\n",
    "\n",
    "DTs = []\n",
    "predictions = []\n",
    "actuals = []\n",
    "recalls = []\n",
    "accs = []\n",
    "\n",
    "for d in range(len(datasets)):\n",
    "    DT = DecisionTreeClassifier(min_samples_leaf=20)\n",
    "    DT.fit(TrainXs[d], TrainYs[d])\n",
    "    DTs.append(DT)\n",
    "    preds = DT.predict(TestXs[d])\n",
    "    predictions.append(preds)\n",
    "    actual = TestYs[d]\n",
    "    actuals.append(actual)\n",
    "    score = DT.score(TestXs[d], TestYs[d])\n",
    "    accs.append(round(score, 3))    \n",
    "    try:\n",
    "        recall_score = sklearn.metrics.recall_score(actual, preds, pos_label=2, average=None)[2]\n",
    "        recalls.append(round(recall_score,3))\n",
    "    except:\n",
    "        recalls.append(0)"
   ]
  },
  {
   "cell_type": "code",
   "execution_count": null,
   "metadata": {
    "collapsed": true
   },
   "outputs": [],
   "source": [
    "AccuracyDF = pd.DataFrame(np.vstack((stations_to_use,metro_codes['Metro'],\n",
    "                                     accs, baseline_accs, recalls, baseline_recs))).T\n",
    "\n",
    "AccuracyDF = AccuracyDF.rename(columns={2: 'Accuracy', 3: 'Baseline Accuracy', 4: 'Recall',\n",
    "                                       5: 'Baseline Recall'})\n",
    "\n",
    "AccuracyDF = AccuracyDF.sort_values(by='Recall', ascending=False)\n",
    "AccuracyDF"
   ]
  },
  {
   "cell_type": "markdown",
   "metadata": {},
   "source": [
    "### Feature Importances for Beijing\n",
    "Pollution in Beijing at t-24 seems to be the most important feature. The second most important feature is pollution in Baotou at t-24 -- Baotou is a city about 400 miles west of Beijing. The third most important feature is pollution in Urumqi at t-60 -- Urumqi is in the far northwestern corner of China. Finally, month seems to be an important variable -- pollution in Beijing is higher during the winter. "
   ]
  },
  {
   "cell_type": "code",
   "execution_count": null,
   "metadata": {
    "collapsed": true
   },
   "outputs": [],
   "source": [
    "DFF = pd.DataFrame(np.vstack((TrainXs[1].columns.values, DTs[1].feature_importances_))).T\n",
    "DFF.sort_values(by=1, ascending=False)"
   ]
  },
  {
   "cell_type": "code",
   "execution_count": null,
   "metadata": {
    "collapsed": true
   },
   "outputs": [],
   "source": []
  }
 ],
 "metadata": {
  "anaconda-cloud": {},
  "kernelspec": {
   "display_name": "Python 3",
   "language": "python",
   "name": "python3"
  },
  "language_info": {
   "codemirror_mode": {
    "name": "ipython",
    "version": 3
   },
   "file_extension": ".py",
   "mimetype": "text/x-python",
   "name": "python",
   "nbconvert_exporter": "python",
   "pygments_lexer": "ipython3",
   "version": "3.6.1"
  }
 },
 "nbformat": 4,
 "nbformat_minor": 1
}
